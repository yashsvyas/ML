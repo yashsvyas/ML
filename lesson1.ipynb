{
 "cells": [
  {
   "cell_type": "code",
   "execution_count": 3,
   "metadata": {
    "collapsed": false
   },
   "outputs": [
    {
     "name": "stdout",
     "output_type": "stream",
     "text": [
      "          Date       Open       High        Low      Close   Volume  Adj Close\n",
      "10  2016-11-23  29.160000  29.570000  28.920000  29.510000  4938300  29.510000\n",
      "11  2016-11-22  29.030001  29.430000  28.549999  29.400000  3856400  29.400000\n",
      "12  2016-11-21  29.020000  29.330000  28.600000  28.670000  3464300  28.670000\n",
      "13  2016-11-18  28.780001  28.940001  28.480000  28.680000  3023200  28.680000\n",
      "14  2016-11-17  29.209999  29.350000  28.670000  28.760000  2667800  28.760000\n",
      "15  2016-11-16  29.340000  29.610001  29.070000  29.320000  2243900  29.320000\n",
      "16  2016-11-15  29.510000  29.959999  28.980000  29.410000  4393000  29.410000\n",
      "17  2016-11-14  27.980000  29.510000  27.850000  29.400000  5501500  29.400000\n",
      "18  2016-11-11  27.850000  28.410000  27.850000  28.100000  4516300  28.100000\n",
      "19  2016-11-10  28.660000  28.790001  27.610001  27.940001  7930500  27.940001\n"
     ]
    }
   ],
   "source": [
    "import pandas as pd\n",
    "\n",
    "def test_run():\n",
    "    df = pd.read_csv(\"table.csv\")\n",
    "    print(df[10:20])\n",
    "    \n",
    "if __name__ == \"__main__\":\n",
    "    test_run()"
   ]
  },
  {
   "cell_type": "code",
   "execution_count": null,
   "metadata": {
    "collapsed": true
   },
   "outputs": [],
   "source": []
  }
 ],
 "metadata": {
  "kernelspec": {
   "display_name": "Python 3",
   "language": "python",
   "name": "python3"
  },
  "language_info": {
   "codemirror_mode": {
    "name": "ipython",
    "version": 3
   },
   "file_extension": ".py",
   "mimetype": "text/x-python",
   "name": "python",
   "nbconvert_exporter": "python",
   "pygments_lexer": "ipython3",
   "version": "3.5.1"
  }
 },
 "nbformat": 4,
 "nbformat_minor": 0
}
